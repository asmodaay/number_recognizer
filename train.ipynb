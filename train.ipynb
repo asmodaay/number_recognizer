{
 "cells": [
  {
   "cell_type": "code",
   "execution_count": 4,
   "id": "871d426f",
   "metadata": {},
   "outputs": [
    {
     "name": "stdout",
     "output_type": "stream",
     "text": [
      "/opt/conda/lib/python3.8/site-packages/gdown/cli.py:127: FutureWarning: Option `--id` was deprecated in version 4.3.1 and will be removed in 5.0. You don't need to pass it anymore to use a file ID.\n",
      "  warnings.warn(\n",
      "Downloading...\n",
      "From: https://drive.google.com/uc?id=1KeqBq6koNgMR5oKGKJUkNg9429d0hkXh\n",
      "To: /workspace/test/numbers2_train.zip\n",
      "100%|██████████████████████████████████████| 1.01G/1.01G [00:16<00:00, 61.2MB/s]\n"
     ]
    }
   ],
   "source": [
    "!gdown --id 1KeqBq6koNgMR5oKGKJUkNg9429d0hkXh\n",
    "!unzip numbers2_train.zip\n",
    "!wget https://raw.githubusercontent.com/NVIDIA/NeMo/main/examples/asr/conf/quartznet/quartznet_15x5.yaml"
   ]
  },
  {
   "cell_type": "code",
   "execution_count": 1,
   "id": "41224f4b",
   "metadata": {},
   "outputs": [
    {
     "name": "stdout",
     "output_type": "stream",
     "text": [
      "INFO: Pandarallel will run on 16 workers.\n",
      "INFO: Pandarallel will use Memory file system to transfer data between the main process and workers.\n"
     ]
    }
   ],
   "source": [
    "import pandas as pd\n",
    "import numpy as np\n",
    "import os\n",
    "from sklearn.utils import shuffle\n",
    "import warnings\n",
    "warnings.filterwarnings(\"ignore\")\n",
    "from pandarallel import pandarallel\n",
    "from tqdm import tqdm\n",
    "from num2words import num2words\n",
    "import json\n",
    "pandarallel.initialize(progress_bar=True)\n",
    "\n",
    "from audiomentations import Compose, AddGaussianNoise, TimeStretch, PitchShift, Shift,Gain\n",
    "import soundfile as sf\n",
    "\n",
    "from data_generator import filters,augment"
   ]
  },
  {
   "cell_type": "code",
   "execution_count": null,
   "id": "a7b38c82",
   "metadata": {},
   "outputs": [],
   "source": [
    "def write_manifest(df,path):\n",
    "    with open(path,'w',encoding='utf-8') as f:\n",
    "        for _,row in df.iterrows():\n",
    "            d = row.to_dict()\n",
    "            d['text'] = d['transcription']\n",
    "            d['audio_filepath'] = d['path']\n",
    "            d['duration'] = 10\n",
    "            datum = json.dumps(d)\n",
    "            f.write(f\"{datum}\\n\")"
   ]
  },
  {
   "cell_type": "markdown",
   "id": "63866149",
   "metadata": {},
   "source": [
    "### Preprocess and augment data"
   ]
  },
  {
   "cell_type": "code",
   "execution_count": 2,
   "id": "f75aa791",
   "metadata": {},
   "outputs": [],
   "source": [
    "data = shuffle(pd.read_csv('numbers2/train.csv').dropna())\n",
    "data['path'] = 'numbers2/' + data['path']\n",
    "train = data[:-300]\n",
    "test = data[-300:]"
   ]
  },
  {
   "cell_type": "code",
   "execution_count": 9,
   "id": "c9c9a21f",
   "metadata": {
    "scrolled": true
   },
   "outputs": [
    {
     "data": {
      "application/vnd.jupyter.widget-view+json": {
       "model_id": "d1e5b34bd7674fdbba5d2a6b65648aec",
       "version_major": 2,
       "version_minor": 0
      },
      "text/plain": [
       "VBox(children=(HBox(children=(IntProgress(value=0, description='0.00%', max=169), Label(value='0 / 169'))), HB…"
      ]
     },
     "metadata": {},
     "output_type": "display_data"
    }
   ],
   "source": [
    "new_paths = train['path'].parallel_apply(lambda x : augment(x,5,filters))\n",
    "new_paths = np.array(new_paths.values.tolist()).reshape(-1)\n",
    "new_paths = pd.DataFrame(new_paths,columns=['path'])"
   ]
  },
  {
   "cell_type": "code",
   "execution_count": 33,
   "id": "dbe2a873",
   "metadata": {},
   "outputs": [],
   "source": [
    "new_paths['core_name'] = new_paths.path.apply(lambda x : x.split('/')[2].split('_')[0])\n",
    "train['core_name'] = train.path.apply(lambda x : x.split('/')[2].split('.')[0])"
   ]
  },
  {
   "cell_type": "code",
   "execution_count": 37,
   "id": "430d94b1",
   "metadata": {},
   "outputs": [],
   "source": [
    "new_paths = pd.merge(new_paths,train,on='core_name')\n",
    "new_paths = new_paths[['path_x','gender','number']]\n",
    "new_paths.columns = ['path','gender','number']\n",
    "\n",
    "train = train.drop('core_name',1)"
   ]
  },
  {
   "cell_type": "code",
   "execution_count": 41,
   "id": "c872fa38",
   "metadata": {},
   "outputs": [],
   "source": [
    "train = shuffle(pd.concat([new_paths,train],))"
   ]
  },
  {
   "cell_type": "code",
   "execution_count": 65,
   "id": "1a0c8168",
   "metadata": {},
   "outputs": [],
   "source": [
    "train['number'] = train['number'].astype(int)\n",
    "test['number'] = test['number'].astype(int)"
   ]
  },
  {
   "cell_type": "code",
   "execution_count": 67,
   "id": "dc23dcb5",
   "metadata": {},
   "outputs": [],
   "source": [
    "train['transcription'] = train['number'].apply(lambda x : num2words(x,lang='ru'))\n",
    "test['transcription'] = test['number'].apply(lambda x : num2words(x,lang='ru'))\n"
   ]
  },
  {
   "cell_type": "code",
   "execution_count": 69,
   "id": "cd9226d6",
   "metadata": {},
   "outputs": [],
   "source": [
    "train.to_csv('numbers2/augmented_train.csv',index=False)\n",
    "test.to_csv('numbers2/test.csv',index=False)"
   ]
  },
  {
   "cell_type": "code",
   "execution_count": 41,
   "id": "63ef0c4c",
   "metadata": {},
   "outputs": [],
   "source": [
    "test = pd.read_csv('numbers2/test.csv')\n",
    "train = pd.read_csv('numbers2/augmented_train.csv')"
   ]
  },
  {
   "cell_type": "code",
   "execution_count": 47,
   "id": "76825713",
   "metadata": {},
   "outputs": [],
   "source": [
    "write_manifest(test,'numbers2/test_manifest.json')\n",
    "write_manifest(train,'numbers2/train_manifest.json')"
   ]
  },
  {
   "cell_type": "markdown",
   "id": "f12ce3cd",
   "metadata": {},
   "source": [
    "### Add more synth data"
   ]
  },
  {
   "cell_type": "code",
   "execution_count": 34,
   "id": "da880ffa",
   "metadata": {},
   "outputs": [],
   "source": [
    "train = pd.read_csv('numbers2/augmented_train.csv')\n",
    "train2 = pd.read_csv('numbers2/gen.csv')\n",
    "\n",
    "train = pd.concat([train[['path','transcription']],train2])"
   ]
  },
  {
   "cell_type": "code",
   "execution_count": 36,
   "id": "0b2229d2",
   "metadata": {},
   "outputs": [],
   "source": [
    "train = shuffle(train)"
   ]
  },
  {
   "cell_type": "code",
   "execution_count": 40,
   "id": "d31d50da",
   "metadata": {},
   "outputs": [],
   "source": [
    "write_manifest(train,'numbers2/train_manifest_big.json')"
   ]
  },
  {
   "cell_type": "markdown",
   "id": "8b4294a3",
   "metadata": {},
   "source": [
    "### Generate alphabet "
   ]
  },
  {
   "cell_type": "code",
   "execution_count": 63,
   "id": "40cba448",
   "metadata": {},
   "outputs": [
    {
     "name": "stdout",
     "output_type": "stream",
     "text": [
      "46\n"
     ]
    }
   ],
   "source": [
    "#first try with word-level alphabet\n",
    "vocab = []\n",
    "for i in list(range(1000)) + [1000,2000,5000,1000000,2000000,5000000,10000000,20000000,50000000]:\n",
    "    vocab.extend(num2words(i,lang='ru').split())\n",
    "\n",
    "vocab = list(set(vocab)) + [' ']\n",
    "print(len(vocab))"
   ]
  },
  {
   "cell_type": "code",
   "execution_count": 4,
   "id": "080057f0",
   "metadata": {},
   "outputs": [
    {
     "data": {
      "text/plain": [
       "33"
      ]
     },
     "execution_count": 4,
     "metadata": {},
     "output_type": "execute_result"
    }
   ],
   "source": [
    "#finish try with char-level alphabet\n",
    "chars = 'йцукенгшщзхъфывапролджэёячсмитьбю'\n",
    "vocab = [c for c in chars] + [' ']\n",
    "len(chars)"
   ]
  },
  {
   "cell_type": "markdown",
   "id": "cbc9795a",
   "metadata": {},
   "source": [
    "### Generate config"
   ]
  },
  {
   "cell_type": "code",
   "execution_count": 5,
   "id": "81b35e47",
   "metadata": {},
   "outputs": [],
   "source": [
    "from yaml import load, dump\n",
    "try:\n",
    "    from yaml import CLoader as Loader, CDumper as Dumper\n",
    "except ImportError:\n",
    "    from yaml import Loader, Dumper"
   ]
  },
  {
   "cell_type": "code",
   "execution_count": 39,
   "id": "8983a91b",
   "metadata": {},
   "outputs": [],
   "source": [
    "model_config = load(open('quartznet_15x5.yaml','r'), Loader=Loader)"
   ]
  },
  {
   "cell_type": "code",
   "execution_count": 40,
   "id": "bae58764",
   "metadata": {},
   "outputs": [],
   "source": [
    "sr = 24000\n",
    "\n",
    "\n",
    "\n",
    "model_config['model']['sample_rate'] = sr\n",
    "model_config['model']['labels'] = vocab\n",
    "\n",
    "model_config['model']['train_ds']['manifest_filepath'] = 'numbers2/train_manifest_big.json'\n",
    "model_config['model']['train_ds']['labels'] = vocab\n",
    "model_config['model']['train_ds']['normalize_transcripts'] = False\n",
    "model_config['model']['train_ds']['sample_rate'] = sr\n",
    "model_config['model']['train_ds']['batch_size'] = 1024\n",
    "\n",
    "model_config['model']['validation_ds']['manifest_filepath'] = 'numbers2/test_manifest.json'\n",
    "model_config['model']['validation_ds']['labels'] = vocab\n",
    "model_config['model']['validation_ds']['sample_rate'] = sr\n",
    "\n",
    "model_config['model']['validation_ds']['normalize_transcripts'] = False\n",
    "\n",
    "model_config['model']['test_ds']['manifest_filepath'] = 'numbers2/test_manifest.json'\n",
    "model_config['model']['test_ds']['labels'] = vocab\n",
    "model_config['model']['test_ds']['sample_rate'] = sr\n",
    "\n",
    "model_config['model']['test_ds']['normalize_transcripts'] = False\n",
    "\n",
    "model_config['model']['decoder']['vocabulary'] = vocab\n",
    "model_config['model']['decoder']['num_classes'] = len(vocab)\n",
    "\n",
    "model_config['trainer']['strategy'] = None #disable ddp while training with one gpu\n",
    "model_config['trainer']['max_epochs'] = 100\n",
    "\n",
    "model_config['name'] = 'QuartzNet5x2'"
   ]
  },
  {
   "cell_type": "code",
   "execution_count": 43,
   "id": "f8069ef2",
   "metadata": {},
   "outputs": [],
   "source": [
    "dump(model_config,open('config.yaml','w'), Dumper=Dumper)"
   ]
  },
  {
   "cell_type": "code",
   "execution_count": 9,
   "id": "73443662",
   "metadata": {},
   "outputs": [],
   "source": [
    "import pytorch_lightning as pl\n",
    "from omegaconf import OmegaConf\n",
    "import torch\n",
    "from nemo.collections.asr.models import EncDecCTCModel\n",
    "from nemo.core.config import hydra_runner\n",
    "from nemo.utils import logging\n",
    "from nemo.utils.exp_manager import exp_manager\n",
    "from IPython.display import Audio"
   ]
  },
  {
   "cell_type": "markdown",
   "id": "e9436855",
   "metadata": {},
   "source": [
    "### Train model"
   ]
  },
  {
   "cell_type": "code",
   "execution_count": null,
   "id": "12d4bd29",
   "metadata": {
    "scrolled": true
   },
   "outputs": [
    {
     "name": "stderr",
     "output_type": "stream",
     "text": [
      "GPU available: True (cuda), used: True\n",
      "TPU available: False, using: 0 TPU cores\n",
      "IPU available: False, using: 0 IPUs\n",
      "HPU available: False, using: 0 HPUs\n",
      "`Trainer(val_check_interval=1.0)` was configured so validation will run at the end of the training epoch..\n"
     ]
    },
    {
     "name": "stdout",
     "output_type": "stream",
     "text": [
      "[NeMo I 2022-10-18 17:50:22 exp_manager:315] Experiments will be logged at /workspace/test/nemo_experiments/QuartzNet15x5/2022-10-18_17-50-22\n",
      "[NeMo I 2022-10-18 17:50:23 exp_manager:704] TensorboardLogger has been set up\n"
     ]
    },
    {
     "name": "stderr",
     "output_type": "stream",
     "text": [
      "[NeMo W 2022-10-18 17:50:23 exp_manager:971] The checkpoint callback was told to monitor a validation value and trainer's max_steps was set to -1. Please ensure that max_steps will run for at least 1 epochs to ensure that checkpointing will not error out.\n"
     ]
    },
    {
     "name": "stdout",
     "output_type": "stream",
     "text": [
      "[NeMo I 2022-10-18 17:50:34 collections:194] Dataset loaded with 124926 files totalling 347.02 hours\n",
      "[NeMo I 2022-10-18 17:50:34 collections:195] 0 files were filtered totalling 0.00 hours\n",
      "[NeMo I 2022-10-18 17:50:34 collections:194] Dataset loaded with 300 files totalling 0.83 hours\n",
      "[NeMo I 2022-10-18 17:50:34 collections:195] 0 files were filtered totalling 0.00 hours\n",
      "[NeMo I 2022-10-18 17:50:34 collections:194] Dataset loaded with 300 files totalling 0.83 hours\n",
      "[NeMo I 2022-10-18 17:50:34 collections:195] 0 files were filtered totalling 0.00 hours\n",
      "[NeMo I 2022-10-18 17:50:34 features:225] PADDING: 16\n"
     ]
    },
    {
     "name": "stderr",
     "output_type": "stream",
     "text": [
      "LOCAL_RANK: 0 - CUDA_VISIBLE_DEVICES: [0,1]\n"
     ]
    },
    {
     "name": "stdout",
     "output_type": "stream",
     "text": [
      "[NeMo I 2022-10-18 17:50:36 modelPT:602] Optimizer config = Novograd (\n",
      "    Parameter Group 0\n",
      "        amsgrad: False\n",
      "        betas: [0.8, 0.5]\n",
      "        eps: 1e-08\n",
      "        grad_averaging: False\n",
      "        lr: 0.01\n",
      "        weight_decay: 0.001\n",
      "    )\n",
      "[NeMo I 2022-10-18 17:50:36 lr_scheduler:910] Scheduler \"<nemo.core.optim.lr_scheduler.CosineAnnealing object at 0x7fc945746310>\" \n",
      "    will be used during training (effective maximum steps = 12200) - \n",
      "    Parameters : \n",
      "    (warmup_steps: null\n",
      "    warmup_ratio: null\n",
      "    min_lr: 0.0\n",
      "    last_epoch: -1\n",
      "    max_steps: 12200\n",
      "    )\n"
     ]
    },
    {
     "name": "stderr",
     "output_type": "stream",
     "text": [
      "\n",
      "  | Name              | Type                              | Params\n",
      "------------------------------------------------------------------------\n",
      "0 | preprocessor      | AudioToMelSpectrogramPreprocessor | 0     \n",
      "1 | encoder           | ConvASREncoder                    | 199 K \n",
      "2 | decoder           | ConvASRDecoder                    | 4.5 K \n",
      "3 | loss              | CTCLoss                           | 0     \n",
      "4 | spec_augmentation | SpectrogramAugmentation           | 0     \n",
      "5 | _wer              | WER                               | 0     \n",
      "------------------------------------------------------------------------\n",
      "204 K     Trainable params\n",
      "0         Non-trainable params\n",
      "204 K     Total params\n",
      "0.816     Total estimated model params size (MB)\n"
     ]
    },
    {
     "data": {
      "application/json": {
       "ascii": false,
       "bar_format": null,
       "colour": null,
       "elapsed": 0.029116153717041016,
       "initial": 0,
       "n": 0,
       "ncols": 168,
       "nrows": 51,
       "postfix": null,
       "prefix": "Sanity Checking",
       "rate": null,
       "total": null,
       "unit": "it",
       "unit_divisor": 1000,
       "unit_scale": false
      },
      "application/vnd.jupyter.widget-view+json": {
       "model_id": "",
       "version_major": 2,
       "version_minor": 0
      },
      "text/plain": [
       "Sanity Checking: 0it [00:00, ?it/s]"
      ]
     },
     "metadata": {},
     "output_type": "display_data"
    },
    {
     "data": {
      "application/json": {
       "ascii": false,
       "bar_format": null,
       "colour": null,
       "elapsed": 0.039701223373413086,
       "initial": 0,
       "n": 0,
       "ncols": 168,
       "nrows": 51,
       "postfix": null,
       "prefix": "Training",
       "rate": null,
       "total": null,
       "unit": "it",
       "unit_divisor": 1000,
       "unit_scale": false
      },
      "application/vnd.jupyter.widget-view+json": {
       "model_id": "6fd6f9c27a0e4485b294730b2dc2c2eb",
       "version_major": 2,
       "version_minor": 0
      },
      "text/plain": [
       "Training: 0it [00:00, ?it/s]"
      ]
     },
     "metadata": {},
     "output_type": "display_data"
    },
    {
     "data": {
      "application/json": {
       "ascii": false,
       "bar_format": null,
       "colour": null,
       "elapsed": 0.029497861862182617,
       "initial": 0,
       "n": 0,
       "ncols": 168,
       "nrows": 51,
       "postfix": null,
       "prefix": "Validation",
       "rate": null,
       "total": null,
       "unit": "it",
       "unit_divisor": 1000,
       "unit_scale": false
      },
      "application/vnd.jupyter.widget-view+json": {
       "model_id": "",
       "version_major": 2,
       "version_minor": 0
      },
      "text/plain": [
       "Validation: 0it [00:00, ?it/s]"
      ]
     },
     "metadata": {},
     "output_type": "display_data"
    },
    {
     "name": "stderr",
     "output_type": "stream",
     "text": [
      "Epoch 0, global step 122: 'val_wer' reached 0.93857 (best 0.93857), saving model to '/workspace/test/nemo_experiments/QuartzNet15x5/2022-10-18_17-50-22/checkpoints/QuartzNet15x5--val_wer=0.9386-epoch=0.ckpt' as top 3\n"
     ]
    },
    {
     "data": {
      "application/json": {
       "ascii": false,
       "bar_format": null,
       "colour": null,
       "elapsed": 0.029161930084228516,
       "initial": 0,
       "n": 0,
       "ncols": 168,
       "nrows": 51,
       "postfix": null,
       "prefix": "Validation",
       "rate": null,
       "total": null,
       "unit": "it",
       "unit_divisor": 1000,
       "unit_scale": false
      },
      "application/vnd.jupyter.widget-view+json": {
       "model_id": "",
       "version_major": 2,
       "version_minor": 0
      },
      "text/plain": [
       "Validation: 0it [00:00, ?it/s]"
      ]
     },
     "metadata": {},
     "output_type": "display_data"
    },
    {
     "name": "stderr",
     "output_type": "stream",
     "text": [
      "Epoch 1, global step 244: 'val_wer' reached 0.86806 (best 0.86806), saving model to '/workspace/test/nemo_experiments/QuartzNet15x5/2022-10-18_17-50-22/checkpoints/QuartzNet15x5--val_wer=0.8681-epoch=1.ckpt' as top 3\n"
     ]
    },
    {
     "data": {
      "application/json": {
       "ascii": false,
       "bar_format": null,
       "colour": null,
       "elapsed": 0.029935836791992188,
       "initial": 0,
       "n": 0,
       "ncols": 168,
       "nrows": 51,
       "postfix": null,
       "prefix": "Validation",
       "rate": null,
       "total": null,
       "unit": "it",
       "unit_divisor": 1000,
       "unit_scale": false
      },
      "application/vnd.jupyter.widget-view+json": {
       "model_id": "",
       "version_major": 2,
       "version_minor": 0
      },
      "text/plain": [
       "Validation: 0it [00:00, ?it/s]"
      ]
     },
     "metadata": {},
     "output_type": "display_data"
    },
    {
     "name": "stderr",
     "output_type": "stream",
     "text": [
      "Epoch 2, global step 366: 'val_wer' reached 0.73130 (best 0.73130), saving model to '/workspace/test/nemo_experiments/QuartzNet15x5/2022-10-18_17-50-22/checkpoints/QuartzNet15x5--val_wer=0.7313-epoch=2.ckpt' as top 3\n"
     ]
    },
    {
     "data": {
      "application/json": {
       "ascii": false,
       "bar_format": null,
       "colour": null,
       "elapsed": 0.058144569396972656,
       "initial": 0,
       "n": 0,
       "ncols": 168,
       "nrows": 51,
       "postfix": null,
       "prefix": "Validation",
       "rate": null,
       "total": null,
       "unit": "it",
       "unit_divisor": 1000,
       "unit_scale": false
      },
      "application/vnd.jupyter.widget-view+json": {
       "model_id": "",
       "version_major": 2,
       "version_minor": 0
      },
      "text/plain": [
       "Validation: 0it [00:00, ?it/s]"
      ]
     },
     "metadata": {},
     "output_type": "display_data"
    },
    {
     "name": "stderr",
     "output_type": "stream",
     "text": [
      "Epoch 3, global step 488: 'val_wer' reached 0.55395 (best 0.55395), saving model to '/workspace/test/nemo_experiments/QuartzNet15x5/2022-10-18_17-50-22/checkpoints/QuartzNet15x5--val_wer=0.5540-epoch=3.ckpt' as top 3\n"
     ]
    },
    {
     "data": {
      "application/json": {
       "ascii": false,
       "bar_format": null,
       "colour": null,
       "elapsed": 0.029509305953979492,
       "initial": 0,
       "n": 0,
       "ncols": 168,
       "nrows": 51,
       "postfix": null,
       "prefix": "Validation",
       "rate": null,
       "total": null,
       "unit": "it",
       "unit_divisor": 1000,
       "unit_scale": false
      },
      "application/vnd.jupyter.widget-view+json": {
       "model_id": "",
       "version_major": 2,
       "version_minor": 0
      },
      "text/plain": [
       "Validation: 0it [00:00, ?it/s]"
      ]
     },
     "metadata": {},
     "output_type": "display_data"
    },
    {
     "name": "stderr",
     "output_type": "stream",
     "text": [
      "Epoch 4, global step 610: 'val_wer' reached 0.46581 (best 0.46581), saving model to '/workspace/test/nemo_experiments/QuartzNet15x5/2022-10-18_17-50-22/checkpoints/QuartzNet15x5--val_wer=0.4658-epoch=4.ckpt' as top 3\n"
     ]
    },
    {
     "data": {
      "application/json": {
       "ascii": false,
       "bar_format": null,
       "colour": null,
       "elapsed": 0.028148651123046875,
       "initial": 0,
       "n": 0,
       "ncols": 168,
       "nrows": 51,
       "postfix": null,
       "prefix": "Validation",
       "rate": null,
       "total": null,
       "unit": "it",
       "unit_divisor": 1000,
       "unit_scale": false
      },
      "application/vnd.jupyter.widget-view+json": {
       "model_id": "",
       "version_major": 2,
       "version_minor": 0
      },
      "text/plain": [
       "Validation: 0it [00:00, ?it/s]"
      ]
     },
     "metadata": {},
     "output_type": "display_data"
    },
    {
     "name": "stderr",
     "output_type": "stream",
     "text": [
      "Epoch 5, global step 732: 'val_wer' reached 0.38996 (best 0.38996), saving model to '/workspace/test/nemo_experiments/QuartzNet15x5/2022-10-18_17-50-22/checkpoints/QuartzNet15x5--val_wer=0.3900-epoch=5.ckpt' as top 3\n"
     ]
    },
    {
     "data": {
      "application/json": {
       "ascii": false,
       "bar_format": null,
       "colour": null,
       "elapsed": 0.02899479866027832,
       "initial": 0,
       "n": 0,
       "ncols": 168,
       "nrows": 51,
       "postfix": null,
       "prefix": "Validation",
       "rate": null,
       "total": null,
       "unit": "it",
       "unit_divisor": 1000,
       "unit_scale": false
      },
      "application/vnd.jupyter.widget-view+json": {
       "model_id": "",
       "version_major": 2,
       "version_minor": 0
      },
      "text/plain": [
       "Validation: 0it [00:00, ?it/s]"
      ]
     },
     "metadata": {},
     "output_type": "display_data"
    },
    {
     "name": "stderr",
     "output_type": "stream",
     "text": [
      "Epoch 6, global step 854: 'val_wer' reached 0.34402 (best 0.34402), saving model to '/workspace/test/nemo_experiments/QuartzNet15x5/2022-10-18_17-50-22/checkpoints/QuartzNet15x5--val_wer=0.3440-epoch=6.ckpt' as top 3\n"
     ]
    },
    {
     "data": {
      "application/json": {
       "ascii": false,
       "bar_format": null,
       "colour": null,
       "elapsed": 0.028429746627807617,
       "initial": 0,
       "n": 0,
       "ncols": 168,
       "nrows": 51,
       "postfix": null,
       "prefix": "Validation",
       "rate": null,
       "total": null,
       "unit": "it",
       "unit_divisor": 1000,
       "unit_scale": false
      },
      "application/vnd.jupyter.widget-view+json": {
       "model_id": "",
       "version_major": 2,
       "version_minor": 0
      },
      "text/plain": [
       "Validation: 0it [00:00, ?it/s]"
      ]
     },
     "metadata": {},
     "output_type": "display_data"
    },
    {
     "name": "stderr",
     "output_type": "stream",
     "text": [
      "Epoch 7, global step 976: 'val_wer' reached 0.32639 (best 0.32639), saving model to '/workspace/test/nemo_experiments/QuartzNet15x5/2022-10-18_17-50-22/checkpoints/QuartzNet15x5--val_wer=0.3264-epoch=7.ckpt' as top 3\n"
     ]
    },
    {
     "data": {
      "application/json": {
       "ascii": false,
       "bar_format": null,
       "colour": null,
       "elapsed": 0.03445601463317871,
       "initial": 0,
       "n": 0,
       "ncols": 168,
       "nrows": 51,
       "postfix": null,
       "prefix": "Validation",
       "rate": null,
       "total": null,
       "unit": "it",
       "unit_divisor": 1000,
       "unit_scale": false
      },
      "application/vnd.jupyter.widget-view+json": {
       "model_id": "",
       "version_major": 2,
       "version_minor": 0
      },
      "text/plain": [
       "Validation: 0it [00:00, ?it/s]"
      ]
     },
     "metadata": {},
     "output_type": "display_data"
    },
    {
     "name": "stderr",
     "output_type": "stream",
     "text": [
      "Epoch 8, global step 1098: 'val_wer' reached 0.29915 (best 0.29915), saving model to '/workspace/test/nemo_experiments/QuartzNet15x5/2022-10-18_17-50-22/checkpoints/QuartzNet15x5--val_wer=0.2991-epoch=8.ckpt' as top 3\n"
     ]
    },
    {
     "data": {
      "application/json": {
       "ascii": false,
       "bar_format": null,
       "colour": null,
       "elapsed": 0.04676699638366699,
       "initial": 0,
       "n": 0,
       "ncols": 168,
       "nrows": 51,
       "postfix": null,
       "prefix": "Validation",
       "rate": null,
       "total": null,
       "unit": "it",
       "unit_divisor": 1000,
       "unit_scale": false
      },
      "application/vnd.jupyter.widget-view+json": {
       "model_id": "",
       "version_major": 2,
       "version_minor": 0
      },
      "text/plain": [
       "Validation: 0it [00:00, ?it/s]"
      ]
     },
     "metadata": {},
     "output_type": "display_data"
    },
    {
     "name": "stderr",
     "output_type": "stream",
     "text": [
      "Epoch 9, global step 1220: 'val_wer' reached 0.22222 (best 0.22222), saving model to '/workspace/test/nemo_experiments/QuartzNet15x5/2022-10-18_17-50-22/checkpoints/QuartzNet15x5--val_wer=0.2222-epoch=9.ckpt' as top 3\n"
     ]
    },
    {
     "data": {
      "application/json": {
       "ascii": false,
       "bar_format": null,
       "colour": null,
       "elapsed": 0.03823399543762207,
       "initial": 0,
       "n": 0,
       "ncols": 168,
       "nrows": 51,
       "postfix": null,
       "prefix": "Validation",
       "rate": null,
       "total": null,
       "unit": "it",
       "unit_divisor": 1000,
       "unit_scale": false
      },
      "application/vnd.jupyter.widget-view+json": {
       "model_id": "",
       "version_major": 2,
       "version_minor": 0
      },
      "text/plain": [
       "Validation: 0it [00:00, ?it/s]"
      ]
     },
     "metadata": {},
     "output_type": "display_data"
    },
    {
     "name": "stderr",
     "output_type": "stream",
     "text": [
      "Epoch 10, global step 1342: 'val_wer' reached 0.22970 (best 0.22222), saving model to '/workspace/test/nemo_experiments/QuartzNet15x5/2022-10-18_17-50-22/checkpoints/QuartzNet15x5--val_wer=0.2297-epoch=10.ckpt' as top 3\n"
     ]
    },
    {
     "data": {
      "application/json": {
       "ascii": false,
       "bar_format": null,
       "colour": null,
       "elapsed": 0.029508590698242188,
       "initial": 0,
       "n": 0,
       "ncols": 168,
       "nrows": 51,
       "postfix": null,
       "prefix": "Validation",
       "rate": null,
       "total": null,
       "unit": "it",
       "unit_divisor": 1000,
       "unit_scale": false
      },
      "application/vnd.jupyter.widget-view+json": {
       "model_id": "",
       "version_major": 2,
       "version_minor": 0
      },
      "text/plain": [
       "Validation: 0it [00:00, ?it/s]"
      ]
     },
     "metadata": {},
     "output_type": "display_data"
    },
    {
     "name": "stderr",
     "output_type": "stream",
     "text": [
      "Epoch 11, global step 1464: 'val_wer' reached 0.22329 (best 0.22222), saving model to '/workspace/test/nemo_experiments/QuartzNet15x5/2022-10-18_17-50-22/checkpoints/QuartzNet15x5--val_wer=0.2233-epoch=11.ckpt' as top 3\n"
     ]
    },
    {
     "data": {
      "application/json": {
       "ascii": false,
       "bar_format": null,
       "colour": null,
       "elapsed": 0.029149532318115234,
       "initial": 0,
       "n": 0,
       "ncols": 168,
       "nrows": 51,
       "postfix": null,
       "prefix": "Validation",
       "rate": null,
       "total": null,
       "unit": "it",
       "unit_divisor": 1000,
       "unit_scale": false
      },
      "application/vnd.jupyter.widget-view+json": {
       "model_id": "",
       "version_major": 2,
       "version_minor": 0
      },
      "text/plain": [
       "Validation: 0it [00:00, ?it/s]"
      ]
     },
     "metadata": {},
     "output_type": "display_data"
    },
    {
     "name": "stderr",
     "output_type": "stream",
     "text": [
      "Epoch 12, global step 1586: 'val_wer' reached 0.17842 (best 0.17842), saving model to '/workspace/test/nemo_experiments/QuartzNet15x5/2022-10-18_17-50-22/checkpoints/QuartzNet15x5--val_wer=0.1784-epoch=12.ckpt' as top 3\n"
     ]
    },
    {
     "data": {
      "application/json": {
       "ascii": false,
       "bar_format": null,
       "colour": null,
       "elapsed": 0.029045581817626953,
       "initial": 0,
       "n": 0,
       "ncols": 168,
       "nrows": 51,
       "postfix": null,
       "prefix": "Validation",
       "rate": null,
       "total": null,
       "unit": "it",
       "unit_divisor": 1000,
       "unit_scale": false
      },
      "application/vnd.jupyter.widget-view+json": {
       "model_id": "",
       "version_major": 2,
       "version_minor": 0
      },
      "text/plain": [
       "Validation: 0it [00:00, ?it/s]"
      ]
     },
     "metadata": {},
     "output_type": "display_data"
    },
    {
     "name": "stderr",
     "output_type": "stream",
     "text": [
      "Epoch 13, global step 1708: 'val_wer' reached 0.16880 (best 0.16880), saving model to '/workspace/test/nemo_experiments/QuartzNet15x5/2022-10-18_17-50-22/checkpoints/QuartzNet15x5--val_wer=0.1688-epoch=13.ckpt' as top 3\n"
     ]
    },
    {
     "data": {
      "application/json": {
       "ascii": false,
       "bar_format": null,
       "colour": null,
       "elapsed": 0.029108762741088867,
       "initial": 0,
       "n": 0,
       "ncols": 168,
       "nrows": 51,
       "postfix": null,
       "prefix": "Validation",
       "rate": null,
       "total": null,
       "unit": "it",
       "unit_divisor": 1000,
       "unit_scale": false
      },
      "application/vnd.jupyter.widget-view+json": {
       "model_id": "",
       "version_major": 2,
       "version_minor": 0
      },
      "text/plain": [
       "Validation: 0it [00:00, ?it/s]"
      ]
     },
     "metadata": {},
     "output_type": "display_data"
    },
    {
     "name": "stderr",
     "output_type": "stream",
     "text": [
      "Epoch 14, global step 1830: 'val_wer' reached 0.14316 (best 0.14316), saving model to '/workspace/test/nemo_experiments/QuartzNet15x5/2022-10-18_17-50-22/checkpoints/QuartzNet15x5--val_wer=0.1432-epoch=14.ckpt' as top 3\n"
     ]
    },
    {
     "data": {
      "application/json": {
       "ascii": false,
       "bar_format": null,
       "colour": null,
       "elapsed": 0.028486013412475586,
       "initial": 0,
       "n": 0,
       "ncols": 168,
       "nrows": 51,
       "postfix": null,
       "prefix": "Validation",
       "rate": null,
       "total": null,
       "unit": "it",
       "unit_divisor": 1000,
       "unit_scale": false
      },
      "application/vnd.jupyter.widget-view+json": {
       "model_id": "",
       "version_major": 2,
       "version_minor": 0
      },
      "text/plain": [
       "Validation: 0it [00:00, ?it/s]"
      ]
     },
     "metadata": {},
     "output_type": "display_data"
    },
    {
     "name": "stderr",
     "output_type": "stream",
     "text": [
      "Epoch 15, global step 1952: 'val_wer' reached 0.14957 (best 0.14316), saving model to '/workspace/test/nemo_experiments/QuartzNet15x5/2022-10-18_17-50-22/checkpoints/QuartzNet15x5--val_wer=0.1496-epoch=15.ckpt' as top 3\n"
     ]
    },
    {
     "data": {
      "application/json": {
       "ascii": false,
       "bar_format": null,
       "colour": null,
       "elapsed": 0.03657174110412598,
       "initial": 0,
       "n": 0,
       "ncols": 168,
       "nrows": 51,
       "postfix": null,
       "prefix": "Validation",
       "rate": null,
       "total": null,
       "unit": "it",
       "unit_divisor": 1000,
       "unit_scale": false
      },
      "application/vnd.jupyter.widget-view+json": {
       "model_id": "",
       "version_major": 2,
       "version_minor": 0
      },
      "text/plain": [
       "Validation: 0it [00:00, ?it/s]"
      ]
     },
     "metadata": {},
     "output_type": "display_data"
    },
    {
     "name": "stderr",
     "output_type": "stream",
     "text": [
      "Epoch 16, global step 2074: 'val_wer' reached 0.09455 (best 0.09455), saving model to '/workspace/test/nemo_experiments/QuartzNet15x5/2022-10-18_17-50-22/checkpoints/QuartzNet15x5--val_wer=0.0946-epoch=16.ckpt' as top 3\n"
     ]
    },
    {
     "data": {
      "application/json": {
       "ascii": false,
       "bar_format": null,
       "colour": null,
       "elapsed": 0.028330087661743164,
       "initial": 0,
       "n": 0,
       "ncols": 168,
       "nrows": 51,
       "postfix": null,
       "prefix": "Validation",
       "rate": null,
       "total": null,
       "unit": "it",
       "unit_divisor": 1000,
       "unit_scale": false
      },
      "application/vnd.jupyter.widget-view+json": {
       "model_id": "",
       "version_major": 2,
       "version_minor": 0
      },
      "text/plain": [
       "Validation: 0it [00:00, ?it/s]"
      ]
     },
     "metadata": {},
     "output_type": "display_data"
    },
    {
     "name": "stderr",
     "output_type": "stream",
     "text": [
      "Epoch 17, global step 2196: 'val_wer' reached 0.10524 (best 0.09455), saving model to '/workspace/test/nemo_experiments/QuartzNet15x5/2022-10-18_17-50-22/checkpoints/QuartzNet15x5--val_wer=0.1052-epoch=17.ckpt' as top 3\n"
     ]
    },
    {
     "data": {
      "application/json": {
       "ascii": false,
       "bar_format": null,
       "colour": null,
       "elapsed": 0.02776813507080078,
       "initial": 0,
       "n": 0,
       "ncols": 168,
       "nrows": 51,
       "postfix": null,
       "prefix": "Validation",
       "rate": null,
       "total": null,
       "unit": "it",
       "unit_divisor": 1000,
       "unit_scale": false
      },
      "application/vnd.jupyter.widget-view+json": {
       "model_id": "",
       "version_major": 2,
       "version_minor": 0
      },
      "text/plain": [
       "Validation: 0it [00:00, ?it/s]"
      ]
     },
     "metadata": {},
     "output_type": "display_data"
    },
    {
     "name": "stderr",
     "output_type": "stream",
     "text": [
      "Epoch 18, global step 2318: 'val_wer' was not in top 3\n"
     ]
    },
    {
     "data": {
      "application/json": {
       "ascii": false,
       "bar_format": null,
       "colour": null,
       "elapsed": 0.02855372428894043,
       "initial": 0,
       "n": 0,
       "ncols": 168,
       "nrows": 51,
       "postfix": null,
       "prefix": "Validation",
       "rate": null,
       "total": null,
       "unit": "it",
       "unit_divisor": 1000,
       "unit_scale": false
      },
      "application/vnd.jupyter.widget-view+json": {
       "model_id": "",
       "version_major": 2,
       "version_minor": 0
      },
      "text/plain": [
       "Validation: 0it [00:00, ?it/s]"
      ]
     },
     "metadata": {},
     "output_type": "display_data"
    },
    {
     "name": "stderr",
     "output_type": "stream",
     "text": [
      "Epoch 19, global step 2440: 'val_wer' reached 0.10417 (best 0.09455), saving model to '/workspace/test/nemo_experiments/QuartzNet15x5/2022-10-18_17-50-22/checkpoints/QuartzNet15x5--val_wer=0.1042-epoch=19.ckpt' as top 3\n"
     ]
    },
    {
     "data": {
      "application/json": {
       "ascii": false,
       "bar_format": null,
       "colour": null,
       "elapsed": 0.030872344970703125,
       "initial": 0,
       "n": 0,
       "ncols": 168,
       "nrows": 51,
       "postfix": null,
       "prefix": "Validation",
       "rate": null,
       "total": null,
       "unit": "it",
       "unit_divisor": 1000,
       "unit_scale": false
      },
      "application/vnd.jupyter.widget-view+json": {
       "model_id": "",
       "version_major": 2,
       "version_minor": 0
      },
      "text/plain": [
       "Validation: 0it [00:00, ?it/s]"
      ]
     },
     "metadata": {},
     "output_type": "display_data"
    },
    {
     "name": "stderr",
     "output_type": "stream",
     "text": [
      "Epoch 20, global step 2562: 'val_wer' reached 0.09348 (best 0.09348), saving model to '/workspace/test/nemo_experiments/QuartzNet15x5/2022-10-18_17-50-22/checkpoints/QuartzNet15x5--val_wer=0.0935-epoch=20.ckpt' as top 3\n"
     ]
    },
    {
     "data": {
      "application/json": {
       "ascii": false,
       "bar_format": null,
       "colour": null,
       "elapsed": 0.029628753662109375,
       "initial": 0,
       "n": 0,
       "ncols": 168,
       "nrows": 51,
       "postfix": null,
       "prefix": "Validation",
       "rate": null,
       "total": null,
       "unit": "it",
       "unit_divisor": 1000,
       "unit_scale": false
      },
      "application/vnd.jupyter.widget-view+json": {
       "model_id": "",
       "version_major": 2,
       "version_minor": 0
      },
      "text/plain": [
       "Validation: 0it [00:00, ?it/s]"
      ]
     },
     "metadata": {},
     "output_type": "display_data"
    },
    {
     "name": "stderr",
     "output_type": "stream",
     "text": [
      "Epoch 21, global step 2684: 'val_wer' reached 0.09241 (best 0.09241), saving model to '/workspace/test/nemo_experiments/QuartzNet15x5/2022-10-18_17-50-22/checkpoints/QuartzNet15x5--val_wer=0.0924-epoch=21.ckpt' as top 3\n"
     ]
    },
    {
     "data": {
      "application/json": {
       "ascii": false,
       "bar_format": null,
       "colour": null,
       "elapsed": 0.028652191162109375,
       "initial": 0,
       "n": 0,
       "ncols": 168,
       "nrows": 51,
       "postfix": null,
       "prefix": "Validation",
       "rate": null,
       "total": null,
       "unit": "it",
       "unit_divisor": 1000,
       "unit_scale": false
      },
      "application/vnd.jupyter.widget-view+json": {
       "model_id": "",
       "version_major": 2,
       "version_minor": 0
      },
      "text/plain": [
       "Validation: 0it [00:00, ?it/s]"
      ]
     },
     "metadata": {},
     "output_type": "display_data"
    },
    {
     "name": "stderr",
     "output_type": "stream",
     "text": [
      "Epoch 22, global step 2806: 'val_wer' was not in top 3\n"
     ]
    },
    {
     "data": {
      "application/json": {
       "ascii": false,
       "bar_format": null,
       "colour": null,
       "elapsed": 0.02804088592529297,
       "initial": 0,
       "n": 0,
       "ncols": 168,
       "nrows": 51,
       "postfix": null,
       "prefix": "Validation",
       "rate": null,
       "total": null,
       "unit": "it",
       "unit_divisor": 1000,
       "unit_scale": false
      },
      "application/vnd.jupyter.widget-view+json": {
       "model_id": "",
       "version_major": 2,
       "version_minor": 0
      },
      "text/plain": [
       "Validation: 0it [00:00, ?it/s]"
      ]
     },
     "metadata": {},
     "output_type": "display_data"
    },
    {
     "name": "stderr",
     "output_type": "stream",
     "text": [
      "Epoch 23, global step 2928: 'val_wer' reached 0.08120 (best 0.08120), saving model to '/workspace/test/nemo_experiments/QuartzNet15x5/2022-10-18_17-50-22/checkpoints/QuartzNet15x5--val_wer=0.0812-epoch=23.ckpt' as top 3\n"
     ]
    },
    {
     "data": {
      "application/json": {
       "ascii": false,
       "bar_format": null,
       "colour": null,
       "elapsed": 0.028890371322631836,
       "initial": 0,
       "n": 0,
       "ncols": 168,
       "nrows": 51,
       "postfix": null,
       "prefix": "Validation",
       "rate": null,
       "total": null,
       "unit": "it",
       "unit_divisor": 1000,
       "unit_scale": false
      },
      "application/vnd.jupyter.widget-view+json": {
       "model_id": "",
       "version_major": 2,
       "version_minor": 0
      },
      "text/plain": [
       "Validation: 0it [00:00, ?it/s]"
      ]
     },
     "metadata": {},
     "output_type": "display_data"
    },
    {
     "name": "stderr",
     "output_type": "stream",
     "text": [
      "Epoch 24, global step 3050: 'val_wer' reached 0.08654 (best 0.08120), saving model to '/workspace/test/nemo_experiments/QuartzNet15x5/2022-10-18_17-50-22/checkpoints/QuartzNet15x5--val_wer=0.0865-epoch=24.ckpt' as top 3\n"
     ]
    }
   ],
   "source": [
    "model_config = OmegaConf.structured(model_config)\n",
    "trainer = pl.Trainer(**model_config['trainer'])\n",
    "exp_manager(trainer, model_config.get(\"exp_manager\", None))\n",
    "asr_model = EncDecCTCModel(cfg=model_config['model'], trainer=trainer)\n",
    "trainer.fit(asr_model)"
   ]
  },
  {
   "cell_type": "code",
   "execution_count": 20,
   "id": "886102f4",
   "metadata": {},
   "outputs": [
    {
     "name": "stderr",
     "output_type": "stream",
     "text": [
      "GPU available: True (cuda), used: True\n",
      "TPU available: False, using: 0 TPU cores\n",
      "IPU available: False, using: 0 IPUs\n",
      "HPU available: False, using: 0 HPUs\n",
      "`Trainer(val_check_interval=1.0)` was configured so validation will run at the end of the training epoch..\n"
     ]
    },
    {
     "name": "stdout",
     "output_type": "stream",
     "text": [
      "[NeMo I 2022-10-20 09:54:01 exp_manager:315] Experiments will be logged at /workspace/test/nemo_experiments/QuartzNet15x5/2022-10-18_17-50-22\n",
      "[NeMo I 2022-10-20 09:54:01 exp_manager:704] TensorboardLogger has been set up\n"
     ]
    },
    {
     "name": "stderr",
     "output_type": "stream",
     "text": [
      "[NeMo W 2022-10-20 09:54:01 exp_manager:971] The checkpoint callback was told to monitor a validation value and trainer's max_steps was set to -1. Please ensure that max_steps will run for at least 1 epochs to ensure that checkpointing will not error out.\n"
     ]
    },
    {
     "name": "stdout",
     "output_type": "stream",
     "text": [
      "[NeMo I 2022-10-20 09:54:13 collections:194] Dataset loaded with 124926 files totalling 347.02 hours\n",
      "[NeMo I 2022-10-20 09:54:13 collections:195] 0 files were filtered totalling 0.00 hours\n",
      "[NeMo I 2022-10-20 09:54:13 collections:194] Dataset loaded with 300 files totalling 0.83 hours\n",
      "[NeMo I 2022-10-20 09:54:13 collections:195] 0 files were filtered totalling 0.00 hours\n",
      "[NeMo I 2022-10-20 09:54:13 collections:194] Dataset loaded with 300 files totalling 0.83 hours\n",
      "[NeMo I 2022-10-20 09:54:13 collections:195] 0 files were filtered totalling 0.00 hours\n",
      "[NeMo I 2022-10-20 09:54:13 features:225] PADDING: 16\n"
     ]
    },
    {
     "data": {
      "text/plain": [
       "<All keys matched successfully>"
      ]
     },
     "execution_count": 20,
     "metadata": {},
     "output_type": "execute_result"
    }
   ],
   "source": [
    "trainer = pl.Trainer(**model_config['trainer'])\n",
    "exp_manager(trainer, model_config.get(\"exp_manager\", None))\n",
    "asr_model = EncDecCTCModel(cfg=model_config['model'], trainer=trainer)\n",
    "\n",
    "#word_level\n",
    "# cpt_path = 'nemo_experiments/QuartzNet15x5/2022-10-18_15-37-19/checkpoints/QuartzNet15x5--val_wer=0.0021-epoch=33.ckpt'\n",
    "\n",
    "#char_level\n",
    "cpt_path = 'nemo_experiments/QuartzNet15x5/2022-10-18_17-50-22/checkpoints/QuartzNet15x5--val_wer=0.0085-epoch=77.ckpt'\n",
    "\n",
    "state_dict = torch.load(cpt_path)['state_dict']\n",
    "asr_model.load_state_dict(state_dict)"
   ]
  },
  {
   "cell_type": "markdown",
   "id": "85502d44",
   "metadata": {},
   "source": [
    "### Check result"
   ]
  },
  {
   "cell_type": "code",
   "execution_count": 21,
   "id": "1be4bb65",
   "metadata": {
    "scrolled": true
   },
   "outputs": [
    {
     "name": "stderr",
     "output_type": "stream",
     "text": [
      "[NeMo W 2022-10-20 09:54:17 audio_to_text_dataset:56] `sample_rate` is explicitly provided to the data loader, and is different from the `sample_rate` provided at the model level config.\n",
      "    If this is incorrect, please set the dataloader's `sample_rate` to None.\n"
     ]
    },
    {
     "data": {
      "application/json": {
       "ascii": false,
       "bar_format": null,
       "colour": null,
       "elapsed": 0.04813885688781738,
       "initial": 0,
       "n": 0,
       "ncols": null,
       "nrows": 51,
       "postfix": null,
       "prefix": "Transcribing",
       "rate": null,
       "total": 2,
       "unit": "it",
       "unit_divisor": 1000,
       "unit_scale": false
      },
      "application/vnd.jupyter.widget-view+json": {
       "model_id": "03332f526f174f3c8197f065faf9f5c1",
       "version_major": 2,
       "version_minor": 0
      },
      "text/plain": [
       "Transcribing:   0%|          | 0/2 [00:00<?, ?it/s]"
      ]
     },
     "metadata": {},
     "output_type": "display_data"
    },
    {
     "data": {
      "text/plain": [
       "['трсть одна тысяча семьдесят етрь',\n",
       " 'двести стьдесят три тысячи шестьсот шсемьдесят пть',\n",
       " 'семьдесят две тысячи цать осемь',\n",
       " 'отадевять тысяч семьсот тридцать восемь',\n",
       " 'двадеать шость тысяч двести честь',\n",
       " 'мьсот девяносто семь тысяч восемьсот шестьдесят темь']"
      ]
     },
     "execution_count": 21,
     "metadata": {},
     "output_type": "execute_result"
    }
   ],
   "source": [
    "test_folder = 'numbers2/test-example/'\n",
    "files = [test_folder + f for f in os.listdir(test_folder)]\n",
    "asr_model.transcribe(files)"
   ]
  },
  {
   "cell_type": "markdown",
   "id": "171e2c15",
   "metadata": {},
   "source": [
    "### Some conclusion.\n",
    "Results doesnt looks perfect, but like 90 persent of this mistakes can be fixed with char-probability rescoring, n-gram model. Or vanila euristic which can find closest neigbor from word-level alphabet with levinshtain distance, and replace."
   ]
  }
 ],
 "metadata": {
  "kernelspec": {
   "display_name": "Python 3 (ipykernel)",
   "language": "python",
   "name": "python3"
  },
  "language_info": {
   "codemirror_mode": {
    "name": "ipython",
    "version": 3
   },
   "file_extension": ".py",
   "mimetype": "text/x-python",
   "name": "python",
   "nbconvert_exporter": "python",
   "pygments_lexer": "ipython3",
   "version": "3.8.13"
  }
 },
 "nbformat": 4,
 "nbformat_minor": 5
}
